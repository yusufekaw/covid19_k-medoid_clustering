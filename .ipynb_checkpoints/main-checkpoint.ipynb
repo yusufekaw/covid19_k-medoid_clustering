{
 "cells": [
  {
   "cell_type": "code",
   "execution_count": 1,
   "id": "be82bf2c",
   "metadata": {},
   "outputs": [],
   "source": [
    "from sklearn.metrics import silhouette_score\n",
    "from dataset.proses_data import baca_dataset, atribut_data, normalisasi\n",
    "from algoritma.kmedoid import sampel_kmedoid, data_medoid, visualisasi"
   ]
  },
  {
   "cell_type": "code",
   "execution_count": 2,
   "id": "1413ec84",
   "metadata": {},
   "outputs": [],
   "source": [
    "dataset = baca_dataset() # Membaca dataset dari file CSV\n",
    "atribut, data = atribut_data(dataset) # Mengambil atribut yang akan digunakan untuk klastering\n",
    "data_skala = normalisasi(data) # Normalisasi data"
   ]
  },
  {
   "cell_type": "code",
   "execution_count": 3,
   "id": "4392da9c",
   "metadata": {},
   "outputs": [
    {
     "name": "stdout",
     "output_type": "stream",
     "text": [
      "dataset\n",
      "      New Cases  New Deaths  New Recovered  New Active Cases  Total Cases  \\\n",
      "0           287          12            188                87        18441   \n",
      "1          1956          20           1643               293       185691   \n",
      "2           233          13            113               107        12388   \n",
      "3          1504           3           1204               297        85083   \n",
      "4           896           4            575               317        83252   \n",
      "...         ...         ...            ...               ...          ...   \n",
      "1027      13112         138          15022             -2048       636383   \n",
      "1028       1665          44            902               719        72560   \n",
      "1029       7399         160           4974              2265       440379   \n",
      "1030       4530         202           3042              1286       285348   \n",
      "1031       2530         168           1727               635       189705   \n",
      "\n",
      "      Total Deaths  Total Recovered  Total Active Cases  \n",
      "0              537            15931                1973  \n",
      "1             3290           166453               15948  \n",
      "2              272             8420                3696  \n",
      "3             1173            71943               11967  \n",
      "4             3623            57036               22593  \n",
      "...            ...              ...                 ...  \n",
      "1027          9270           527060              100053  \n",
      "1028          1892            54352               16316  \n",
      "1029          6008           348694               85677  \n",
      "1030         12562           223706               49080  \n",
      "1031         13635           160296               15774  \n",
      "\n",
      "[1032 rows x 8 columns]\n"
     ]
    }
   ],
   "source": [
    "print(\"dataset\") #cetak dataset\n",
    "print(dataset) #cetak dataset"
   ]
  },
  {
   "cell_type": "code",
   "execution_count": null,
   "id": "6f75c82c",
   "metadata": {},
   "outputs": [],
   "source": []
  }
 ],
 "metadata": {
  "kernelspec": {
   "display_name": "Python 3 (ipykernel)",
   "language": "python",
   "name": "python3"
  },
  "language_info": {
   "codemirror_mode": {
    "name": "ipython",
    "version": 3
   },
   "file_extension": ".py",
   "mimetype": "text/x-python",
   "name": "python",
   "nbconvert_exporter": "python",
   "pygments_lexer": "ipython3",
   "version": "3.10.6"
  }
 },
 "nbformat": 4,
 "nbformat_minor": 5
}
